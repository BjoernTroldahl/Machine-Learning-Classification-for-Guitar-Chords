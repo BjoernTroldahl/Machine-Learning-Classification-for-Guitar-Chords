{
 "cells": [
  {
   "cell_type": "code",
   "execution_count": null,
   "id": "8049da72-f4c0-4a70-ae0b-67720ca7cbe8",
   "metadata": {},
   "outputs": [],
   "source": [
    "import os\n",
    "import pathlib\n",
    "import numpy as np\n",
    "import tensorflow as tf"
   ]
  },
  {
   "cell_type": "code",
   "execution_count": null,
   "id": "34ca1cba-577b-4ab3-b9db-0bbb9287b6f8",
   "metadata": {},
   "outputs": [],
   "source": [
    "# Load the model from the saved Keras file\n",
    "loaded_model_1 = tf.keras.models.load_model(\"Models/model_1.keras\")"
   ]
  },
  {
   "cell_type": "markdown",
   "id": "9dd696f9-9950-45d4-899c-42298a02989c",
   "metadata": {},
   "source": [
    "## Using Camera as model's input"
   ]
  },
  {
   "cell_type": "code",
   "execution_count": null,
   "id": "6747e061-634d-43b3-8667-1d53837fad15",
   "metadata": {},
   "outputs": [],
   "source": [
    "!ls -ltrh /dev/video* # linux command to list available cameras"
   ]
  },
  {
   "cell_type": "markdown",
   "id": "8cc39a03-652a-40f3-ac81-f9e8d840e1d1",
   "metadata": {},
   "source": [
    "#### Create the camera object\n",
    "Remember to change capture_device if incorrect for your system (based on out put of camera listing /dev/video\\<camera_no>)"
   ]
  },
  {
   "cell_type": "code",
   "execution_count": null,
   "id": "a0118084-5a15-4746-be0b-f1b1730cf2a0",
   "metadata": {},
   "outputs": [],
   "source": [
    "from jetcam.usb_camera import USBCamera\n",
    "camera = USBCamera(width=224, height=224, capture_width=640, capture_height=480, capture_fps=10, capture_device=0)"
   ]
  },
  {
   "cell_type": "markdown",
   "id": "9d9dede6-a030-4845-bdf5-f7b26446d291",
   "metadata": {},
   "source": [
    "#### Video Widget \n",
    "Create image widget object for inside-jupyter video display"
   ]
  },
  {
   "cell_type": "code",
   "execution_count": null,
   "id": "7197b989-49a2-4f93-9bbc-c4f3f9285261",
   "metadata": {},
   "outputs": [],
   "source": [
    "import ipywidgets\n",
    "from IPython.display import display\n",
    "from jetcam.utils import bgr8_to_jpeg\n",
    "\n",
    "image_widet = ipywidgets.Image(format='jpeg')\n",
    "image_widget.value = bgr8_to_jpeg(iamge)\n",
    "camera.running = True\n",
    "display(image_widget)"
   ]
  },
  {
   "cell_type": "markdown",
   "id": "30dee62b-3b1d-4911-924b-beeea2df8978",
   "metadata": {},
   "source": [
    "### Video update callback\n",
    "\n",
    "Define callback for camera. Whenever there's an image update from camera (new frame incoming) this callback gets called. Every frame we fetch the image, rescale it to shape required by our model (if needed) and run a prediction. The prediction is diplayed in the bottom left corner of the video."
   ]
  },
  {
   "cell_type": "code",
   "execution_count": null,
   "id": "9fe22883-dbf4-4123-b963-db0700679511",
   "metadata": {},
   "outputs": [],
   "source": [
    "import cv2\n",
    "\n",
    "model_input_shape = (224,224)\n",
    "        \n",
    "\n",
    "def update_image(change):\n",
    "    image = change['new'] # get the frame\n",
    "\n",
    "    # Resize to model's required shape\n",
    "    if(image.shape[0:2] != model_input_shape):\n",
    "        image = cv2.resize(image, model_input_shape, interpolation = cv2.INTER_AREA) \n",
    "    \n",
    "    # Use the model to predict a class\n",
    "    predictions = loaded_model_1.predict(np.array([image]))\n",
    "    pred_index = np.argmax(predictions)\n",
    "    \n",
    "    # Add predicted class information to the image\n",
    "    cv2.putText(image, class_names[pred_index], (10, image.shape[0] - 10), font, 3, (0, 255, 0), 2, cv2.LINE_AA, False)\n",
    "\n",
    "    # Update video widget\n",
    "    image_widget.value = bgr8_to_jpeg(image)"
   ]
  },
  {
   "cell_type": "code",
   "execution_count": null,
   "id": "d5126672-131b-4ff1-a684-ada059e8e551",
   "metadata": {},
   "outputs": [],
   "source": [
    "camera.observe(update_image, names='value') # subscribe to camera input"
   ]
  },
  {
   "cell_type": "code",
   "execution_count": null,
   "id": "0175e965-9d98-4183-a383-7163032ebdc9",
   "metadata": {},
   "outputs": [],
   "source": [
    "camera.unobserve(update_image, names='value') # unsubscribe from camera input"
   ]
  }
 ],
 "metadata": {
  "kernelspec": {
   "display_name": "Python 3 (ipykernel)",
   "language": "python",
   "name": "python3"
  },
  "language_info": {
   "codemirror_mode": {
    "name": "ipython",
    "version": 3
   },
   "file_extension": ".py",
   "mimetype": "text/x-python",
   "name": "python",
   "nbconvert_exporter": "python",
   "pygments_lexer": "ipython3",
   "version": "3.11.6"
  }
 },
 "nbformat": 4,
 "nbformat_minor": 5
}
